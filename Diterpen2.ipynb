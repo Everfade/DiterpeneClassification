{
 "cells": [
  {
   "cell_type": "code",
   "execution_count": 187,
   "id": "e04e0ad7",
   "metadata": {},
   "outputs": [],
   "source": [
    "import numpy as np\n",
    "import tensorflow as tf\n",
    "import pandas as pd\n",
    "import math\n",
    "import keras\n",
    "from sklearn.preprocessing import LabelEncoder,OneHotEncoder\n",
    "import matplotlib.colors as mcolors\n",
    "import matplotlib.pyplot as plt\n",
    "from tensorflow.keras.models import Sequential\n",
    "from tensorflow.keras.layers import Dense\n",
    "from tensorflow.keras.layers import Dropout\n",
    "from sklearn.model_selection import train_test_split\n",
    "tf.random.set_seed(1)\n",
    "dataset_path=\"D:\\Tu\\ML\\Diterpene\\convertcsv.xlsx\"\n",
    "test1_path=\"D:\\Tu\\ML\\Diterpene\\diterpene_val1.csv\"\n",
    "test2_path=\"D:\\Tu\\ML\\Diterpene\\diterpene_val2.csv\"\n",
    "multiplicities=[\"s\",\"d\",\"t\",\"q\"]\n",
    "data=pd.read_excel(dataset_path)\n",
    "test_data1=pd.read_csv(test1_path)\n",
    "test_data2=pd.read_csv(test2_path)\n",
    "test_data2=test_data2.iloc[:,5:]\n",
    "test_data1=test_data1.iloc[:,5:]\n",
    "labels=data[\"a45c\"].to_numpy()\n",
    "freq_Max=230\n",
    "data = data.drop([\"a0\",\"a1\",\"a2\",\"a3\",\"a4\",\"a45c\"], axis=1)\n",
    "data_np =data.to_numpy()\n",
    "mult_encoder = LabelEncoder()\n",
    "mult_encoder=mult_encoder.fit(multiplicities)\n",
    "\n",
    "frequency_encoder = LabelEncoder()\n",
    "frequency_encoder=frequency_encoder.fit(np.arange(0, freq_Max, 1, dtype=int))\n",
    "\n",
    "def multiplicityToInt(m,oneHot=False):\n",
    "    if(oneHot):\n",
    "        return []\n",
    "    if m in multiplicities:\n",
    "         return (multiplicities.index(m)+1)\n",
    "    raise(\"Unknown Multiplicitiy Value\") \n",
    "#turns each row into a function where x is frequency and y is multiplicity from 0 to 230\n",
    "def convertToXY(datapoint,round_to_int=False,get_raw_mult=False):\n",
    "    x=np.arange(0. , freq_Max, 0.1)\n",
    "    x=np.around(x,decimals=2)\n",
    "    x_final=[]\n",
    "    y_values=[]\n",
    "    y_label=[]\n",
    "    y_full=[]\n",
    "    for i in range( 0,len(datapoint)-1,2):\n",
    "        y_values.append(datapoint[i+1])\n",
    "        y_label.append(datapoint[i])\n",
    "    if(round_to_int):\n",
    "        y_values = np.rint(y_values)\n",
    "    else:\n",
    "        y_values = np.around(y_values, decimals=1)\n",
    "    for peak in y_values:\n",
    "        point_label=y_label[np.where(y_values==peak)[0][0]]\n",
    "        if not get_raw_mult:\n",
    "            multiplicity=multiplicityToInt(point_label)\n",
    "            y_full.append(multiplicity)\n",
    "        else:\n",
    "            y_full.append(point_label)\n",
    "        x_final.append(peak)\n",
    "        if(round_to_int):\n",
    "            x_final = [round(x) for x in x_final]\n",
    "    return (x_final,y_full)\n",
    "def preprocess(data,sample_size):#Basically Bag of Words\n",
    "    columns = {str(i): [] for i in range(0, sample_size)}\n",
    "    rs_data = pd.DataFrame(columns)\n",
    "    for data_point in data_np:\n",
    "        testx,testy=convertToXY(data_point,round_to_int=True,get_raw_mult=False)\n",
    "        new_row =np.zeros(sample_size)\n",
    "        for ind,x in enumerate(testx):\n",
    "            new_row[x]+=testy[ind]\n",
    "        rs_data.loc[len(rs_data)] = new_row\n",
    "    return rs_data\n",
    "#Bag of Words with a lower number of features summing all within the frequency interval\n",
    "def preprocess_bucket(data,number_of_freq,sample_size):\n",
    "    run_length=math.ceil(number_of_freq/sample_size)\n",
    "   # print(\"Run Length: \"+str(run_length))\n",
    "    columns = {str(i): [] for i in range(0, sample_size)}\n",
    "    rs_data = pd.DataFrame(columns)\n",
    "    for data_point in data_np:\n",
    "        testx,testy=convertToXY(data_point,round_to_int=True,get_raw_mult=False)\n",
    "        new_row =np.zeros(sample_size)\n",
    "        #iterare over bins\n",
    "        for index in range(1,sample_size):\n",
    "            upper_bound=index*run_length\n",
    "            lower_bound=upper_bound-run_length\n",
    "         \n",
    "            for ind,x in enumerate(testx):      \n",
    "                if(upper_bound>x and x >=lower_bound):\n",
    "                   # print(\"found value: \" + str(x) + \" at bounds: \" + str(lower_bound) + \", \" + str(upper_bound) + \" at index: \" + str(index))\n",
    "                    new_row[index]+=testy[ind]\n",
    "        rs_data.loc[len(rs_data)] = new_row\n",
    "       #print(\"Row Completed: \"+str(nrofv))\n",
    "    return rs_data\n",
    "            "
   ]
  },
  {
   "cell_type": "code",
   "execution_count": 261,
   "id": "7bfb30a7",
   "metadata": {},
   "outputs": [],
   "source": [
    "\n",
    "from sklearn.preprocessing import MinMaxScaler\n",
    "def grid_search(scale_control):\n",
    "    early_stopping =  EarlyStopping(\n",
    "    monitor='val_accuracy', \n",
    "    patience=2, \n",
    "    min_delta=0.02, \n",
    "    mode='max'\n",
    "    )\n",
    "    feats=[]\n",
    "    accs=[]\n",
    "    highest_acc_number=0\n",
    "    best_feat_number=0\n",
    "    for   number_of_features in range(15,200,5):\n",
    "        reshaped_data=preprocess_bucket(data,231,number_of_features)\n",
    "\n",
    "        \n",
    "        X_train, X_test, y_train,y_test = train_test_split(reshaped_data, onehot_encoded_y,\n",
    "                                                           test_size=0.2, random_state=123)\n",
    "        X_test, X_val, y_test, y_val = train_test_split(X_test, y_test, test_size=0.2, random_state=123)\n",
    "        model = Sequential()\n",
    "        model.add(Dense(round(number_of_features*(2-scale_control), activation='relu', input_shape=(number_of_features,)))\n",
    "        model.add(Dense(number_of_features*(3-scale_control), activation='relu'))\n",
    "        model.add(Dense(round(number_of_features), activation='relu'))\n",
    "        model.add(Dense(22, activation='sigmoid'))\n",
    "        model.compile(loss=\"binary_crossentropy\", optimizer=\"Adam\", metrics=[\"accuracy\"])\n",
    "        model.fit(X_train, y_train, epochs=10, batch_size=8, validation_data=(X_val, y_val),\n",
    "                  verbose=False )\n",
    "\n",
    "        _, accuracy = model.evaluate(X_test, y_test,verbose=False)\n",
    "        print(\"Number of Features: \"+ str(number_of_features)+\" Test Accuracy: \"+ str(accuracy))\n",
    "        feats.append(number_of_features)\n",
    "        accs.append(accuracy)\n",
    "        if (accuracy>highest_acc_number):\n",
    "              best_feat_number=number_of_features\n",
    "    print(best_feat_number)\n",
    "        \n",
    "        \n",
    "    return (feats,accs)\n",
    "              "
   ]
  },
  {
   "cell_type": "code",
   "execution_count": 262,
   "id": "c411b17e",
   "metadata": {
    "collapsed": true
   },
   "outputs": [
    {
     "name": "stdout",
     "output_type": "stream",
     "text": [
      "Number of Features: 15 Test Accuracy: 0.59375\n",
      "Number of Features: 20 Test Accuracy: 0.6510416865348816\n",
      "Number of Features: 25 Test Accuracy: 0.7395833134651184\n",
      "Number of Features: 30 Test Accuracy: 0.734375\n",
      "Number of Features: 35 Test Accuracy: 0.7708333134651184\n",
      "Number of Features: 40 Test Accuracy: 0.7864583134651184\n",
      "Number of Features: 45 Test Accuracy: 0.8020833134651184\n",
      "Number of Features: 50 Test Accuracy: 0.84375\n",
      "Number of Features: 55 Test Accuracy: 0.8385416865348816\n",
      "Number of Features: 60 Test Accuracy: 0.8177083134651184\n",
      "Number of Features: 65 Test Accuracy: 0.8229166865348816\n",
      "Number of Features: 70 Test Accuracy: 0.7916666865348816\n",
      "Number of Features: 75 Test Accuracy: 0.7916666865348816\n",
      "Number of Features: 80 Test Accuracy: 0.8333333134651184\n",
      "Number of Features: 85 Test Accuracy: 0.8541666865348816\n",
      "Number of Features: 90 Test Accuracy: 0.828125\n",
      "Number of Features: 95 Test Accuracy: 0.875\n",
      "Number of Features: 100 Test Accuracy: 0.84375\n",
      "Number of Features: 105 Test Accuracy: 0.8333333134651184\n",
      "Number of Features: 110 Test Accuracy: 0.8645833134651184\n",
      "Number of Features: 115 Test Accuracy: 0.828125\n",
      "Number of Features: 120 Test Accuracy: 0.8229166865348816\n",
      "Number of Features: 125 Test Accuracy: 0.828125\n",
      "Number of Features: 130 Test Accuracy: 0.828125\n",
      "Number of Features: 135 Test Accuracy: 0.84375\n",
      "Number of Features: 140 Test Accuracy: 0.84375\n",
      "Number of Features: 145 Test Accuracy: 0.828125\n",
      "Number of Features: 150 Test Accuracy: 0.8489583134651184\n",
      "Number of Features: 155 Test Accuracy: 0.84375\n",
      "Number of Features: 160 Test Accuracy: 0.8229166865348816\n",
      "Number of Features: 165 Test Accuracy: 0.828125\n",
      "Number of Features: 170 Test Accuracy: 0.828125\n",
      "Number of Features: 175 Test Accuracy: 0.8385416865348816\n",
      "Number of Features: 180 Test Accuracy: 0.8385416865348816\n",
      "Number of Features: 185 Test Accuracy: 0.84375\n",
      "Number of Features: 190 Test Accuracy: 0.84375\n",
      "Number of Features: 195 Test Accuracy: 0.828125\n",
      "195\n"
     ]
    }
   ],
   "source": [
    "f,a=grid_search(0)"
   ]
  },
  {
   "cell_type": "code",
   "execution_count": 267,
   "id": "5307fa75",
   "metadata": {},
   "outputs": [],
   "source": [
    "f2,a2=grid_search(0.5)# smaller nn"
   ]
  },
  {
   "cell_type": "code",
   "execution_count": 272,
   "id": "a680b742",
   "metadata": {},
   "outputs": [
    {
     "data": {
      "image/png": "[encoded data removed]",
      "text/plain": [
       "<Figure size 432x288 with 2 Axes>"
      ]
     },
     "metadata": {},
     "output_type": "display_data"
    }
   ],
   "source": [
    "\n",
    "plt.plot(f2, a2, marker='o')\n",
    "plt.xlabel(\"Number of Features\", color=\"white\")\n",
    "plt.ylabel(\"Accuracy\", color=\"white\")\n",
    "plt.title(\"Accuracy vs Number of Features\", color=\"white\")\n",
    "plt.grid(True)\n",
    "plt.tick_params(axis=\"x\", colors=\"white\")\n",
    "plt.tick_params(axis=\"y\", colors=\"white\")\n",
    "\n",
    "plt.gca().spines[\"bottom\"].set_color(\"white\")\n",
    "plt.gca().spines[\"top\"].set_color(\"white\")\n",
    "plt.gca().spines[\"left\"].set_color(\"white\")\n",
    "plt.gca().spines[\"right\"].set_color(\"white\")\n",
    "\n",
    "plt.gcf().set_facecolor(\"black\")\n",
    "ax2 = plt.twinx()\n",
    "ax2.plot(f, a, marker='s', color='red')\n",
    "ax2.set_ylabel(\"Accuracy\", color=\"white\")\n",
    "ax2.tick_params(axis='y', colors='white')\n",
    "plt.show()"
   ]
  },
  {
   "cell_type": "code",
   "execution_count": 276,
   "id": "9b52cf77",
   "metadata": {},
   "outputs": [
    {
     "name": "stdout",
     "output_type": "stream",
     "text": [
      "Epoch 1/8\n",
      "121/121 [==============================] - 1s 2ms/step - loss: 0.1251 - accuracy: 0.5193 - val_loss: 0.0730 - val_accuracy: 0.6722\n",
      "Epoch 2/8\n",
      "121/121 [==============================] - 0s 2ms/step - loss: 0.0652 - accuracy: 0.7336 - val_loss: 0.0673 - val_accuracy: 0.7137\n",
      "Epoch 3/8\n",
      "121/121 [==============================] - 0s 1ms/step - loss: 0.0453 - accuracy: 0.8314 - val_loss: 0.0585 - val_accuracy: 0.7676\n",
      "Epoch 4/8\n",
      "121/121 [==============================] - 0s 1ms/step - loss: 0.0330 - accuracy: 0.8876 - val_loss: 0.0602 - val_accuracy: 0.7884\n",
      "Epoch 5/8\n",
      "121/121 [==============================] - 0s 2ms/step - loss: 0.0224 - accuracy: 0.9126 - val_loss: 0.0562 - val_accuracy: 0.8091\n",
      "Epoch 6/8\n",
      "121/121 [==============================] - 0s 2ms/step - loss: 0.0138 - accuracy: 0.9657 - val_loss: 0.0527 - val_accuracy: 0.8299\n",
      "Epoch 7/8\n",
      "121/121 [==============================] - 0s 2ms/step - loss: 0.0080 - accuracy: 0.9823 - val_loss: 0.0549 - val_accuracy: 0.8340\n",
      "Epoch 8/8\n",
      "121/121 [==============================] - 0s 2ms/step - loss: 0.0039 - accuracy: 0.9969 - val_loss: 0.0523 - val_accuracy: 0.8382\n"
     ]
    },
    {
     "data": {
      "text/plain": [
       "<keras.callbacks.History at 0x21ee12728e0>"
      ]
     },
     "execution_count": 276,
     "metadata": {},
     "output_type": "execute_result"
    }
   ],
   "source": [
    "#This time train on the entire training Data on the best numer of features\n",
    "label_enc=LabelEncoder()\n",
    "label_enc=label_enc.fit(labels)\n",
    "y=label_enc.transform(labels)\n",
    "onehot_encoder = OneHotEncoder(categories='auto', sparse=False)\n",
    "onehot_encoded_y = onehot_encoder.fit_transform(y.reshape(-1,1)) \n",
    " \n",
    "number_of_features=100\n",
    "reshaped_data=preprocess_bucket(data,231,number_of_features)\n",
    "test_data1=preprocess_bucket(test_data1,231,number_of_features)\n",
    "test_data2=preprocess_bucket(test_data2,231,number_of_features)\n",
    "#This time we dont need a seperate test set\n",
    "X_train, X_val, y_train,y_val = train_test_split(reshaped_data, onehot_encoded_y,test_size=0.2,\n",
    "                                                 random_state=1)\n",
    "#X_test, X_val, y_test, y_val = train_test_split(X_test, y_test, test_size=0.2, random_state=123)\n",
    " \n",
    "model = Sequential()\n",
    "model.add(Dense(round(number_of_features*2), activation='relu', input_shape=(number_of_features,)))\n",
    "model.add(Dense(number_of_features*3, activation='relu'))\n",
    "model.add(Dense(round(number_of_features), activation='relu'))\n",
    "model.add(Dense(22, activation='sigmoid'))\n",
    "model.compile(loss=\"binary_crossentropy\", optimizer=\"Adam\", metrics=[\"accuracy\"])\n",
    "model.fit(X_train, y_train, epochs=8, batch_size=8, validation_data=(X_val, y_val),\n",
    "                  verbose=True)\n"
   ]
  },
  {
   "cell_type": "code",
   "execution_count": 297,
   "id": "dcc9b32b",
   "metadata": {},
   "outputs": [
    {
     "name": "stdout",
     "output_type": "stream",
     "text": [
      "38/38 [==============================] - 0s 701us/step\n"
     ]
    }
   ],
   "source": [
    "predictions=[]\n",
    "for prediction in model.predict(test_data1):\n",
    "    predictions.append(np.argmax(prediction))\n",
    "predicted_labels=label_enc.inverse_transform(predictions)\n",
    "df = pd.DataFrame(predicted_labels, columns=['Predictions'])\n",
    "df.to_csv(r\"D:\\\\Tu\\\\ML\\\\Diterpene\\test1_prediction.csv\", index=False, header=False)"
   ]
  },
  {
   "cell_type": "code",
   "execution_count": 298,
   "id": "aa7fe29d",
   "metadata": {},
   "outputs": [
    {
     "name": "stdout",
     "output_type": "stream",
     "text": [
      "38/38 [==============================] - 0s 701us/step\n"
     ]
    }
   ],
   "source": [
    "predictions=[]\n",
    "for prediction in model.predict(test_data2):\n",
    "    predictions.append(np.argmax(prediction))\n",
    "predicted_labels=label_enc.inverse_transform(predictions)\n",
    "df = pd.DataFrame(predicted_labels, columns=['Predictions'])\n",
    "df.to_csv(r\"D:\\\\Tu\\\\ML\\\\Diterpene\\test1_prediction2.csv\", index=False, header=False)"
   ]
  },
  {
   "cell_type": "code",
   "execution_count": null,
   "id": "8e4d3029",
   "metadata": {},
   "outputs": [],
   "source": []
  }
 ],
 "metadata": {
  "kernelspec": {
   "display_name": "Python 3 (ipykernel)",
   "language": "python",
   "name": "python3"
  },
  "language_info": {
   "codemirror_mode": {
    "name": "ipython",
    "version": 3
   },
   "file_extension": ".py",
   "mimetype": "text/x-python",
   "name": "python",
   "nbconvert_exporter": "python",
   "pygments_lexer": "ipython3",
   "version": "3.9.13"
  }
 },
 "nbformat": 4,
 "nbformat_minor": 5
}
